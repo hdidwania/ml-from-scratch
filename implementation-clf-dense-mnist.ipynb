{
 "cells": [
  {
   "cell_type": "markdown",
   "id": "f1261642",
   "metadata": {},
   "source": [
    "## Implementation a desne classifier for classifaction on MNIST dataset"
   ]
  },
  {
   "cell_type": "code",
   "execution_count": 1,
   "id": "880aecf7",
   "metadata": {},
   "outputs": [],
   "source": [
    "import numpy as np\n",
    "import pandas as pd\n",
    "import matplotlib.pyplot as plt\n",
    "from sklearn.metrics import classification_report\n",
    "\n",
    "from ml.layers.linear import Linear\n",
    "from ml.layers.activations import Sigmoid\n",
    "from ml.loss import MSELoss\n",
    "from ml.optimizers import SGD"
   ]
  },
  {
   "cell_type": "markdown",
   "id": "74c4b32b",
   "metadata": {},
   "source": [
    "### Loading data and creating data utils"
   ]
  },
  {
   "cell_type": "code",
   "execution_count": 2,
   "id": "a78a7208",
   "metadata": {},
   "outputs": [],
   "source": [
    "class Dataset:\n",
    "    def __init__(self, path):\n",
    "        df = pd.read_csv(path, header=None)\n",
    "        self.X = df.iloc[:, 1:]\n",
    "        self.y = df.iloc[:, 0]\n",
    "        \n",
    "    def __len__(self):\n",
    "        return len(self.X)\n",
    "    \n",
    "    def __getitem__(self, idx):\n",
    "        return np.array(self.X.iloc[idx]), self.y[idx]"
   ]
  },
  {
   "cell_type": "code",
   "execution_count": 3,
   "id": "254af3ab",
   "metadata": {},
   "outputs": [
    {
     "data": {
      "text/plain": [
       "(60000, 10000)"
      ]
     },
     "execution_count": 3,
     "metadata": {},
     "output_type": "execute_result"
    }
   ],
   "source": [
    "train_data = Dataset('./datasets/mnist/mnist_train.csv')\n",
    "test_data = Dataset('./datasets/mnist/mnist_test.csv')\n",
    "len(train_data), len(test_data)"
   ]
  },
  {
   "cell_type": "code",
   "execution_count": 4,
   "id": "f0790bf2",
   "metadata": {},
   "outputs": [],
   "source": [
    "def get_batch(dataset, batchsize):\n",
    "    n = len(dataset)\n",
    "    indices = list(range(n))\n",
    "    np.random.shuffle(indices)\n",
    "    start = 0\n",
    "    end = batchsize\n",
    "    while True:\n",
    "        if start == n:\n",
    "            start = 0\n",
    "            end = batchsize\n",
    "            np.random.shuffle(indices)\n",
    "            yield None\n",
    "            continue\n",
    "        batch_X, batch_y = list(), list()\n",
    "        for i in range(start, end):\n",
    "            X, y = train_data[i]\n",
    "            batch_X.append(X)\n",
    "            batch_y.append(y)\n",
    "        yield np.array(batch_X), np.array(batch_y)\n",
    "        start = end\n",
    "        end = min(n, end+batchsize)"
   ]
  },
  {
   "cell_type": "code",
   "execution_count": 5,
   "id": "d295d2bb",
   "metadata": {},
   "outputs": [],
   "source": [
    "BATCHSIZE = 32\n",
    "train_loader = get_batch(train_data, BATCHSIZE)\n",
    "test_loader = get_batch(test_data, BATCHSIZE)"
   ]
  },
  {
   "cell_type": "markdown",
   "id": "ed5dbb03",
   "metadata": {},
   "source": [
    "## Training and testing utilities"
   ]
  },
  {
   "cell_type": "code",
   "execution_count": 6,
   "id": "0e1cec74",
   "metadata": {},
   "outputs": [],
   "source": [
    "def train_model(model, loss_fn, dataloader, optimizer, n_epochs):\n",
    "    for epoch in range(n_epochs):\n",
    "        batch_count = 0\n",
    "        while True:\n",
    "            batch = next(dataloader)\n",
    "            if not batch:\n",
    "                break\n",
    "            batch_count += 1\n",
    "            x, y = batch\n",
    "            y = np.eye(10)[y]\n",
    "            y_pred = model.forward(x)\n",
    "            loss = loss_fn.forward(y, y_pred)\n",
    "            din_loss = loss_fn.backward()\n",
    "            model.backward(din_loss)\n",
    "            model.update(optimizer)\n",
    "            print(\"\\rEpoch {} Batch {} Loss {}\".format(epoch, batch_count, loss), end=\"\") \n",
    "        print()"
   ]
  },
  {
   "cell_type": "code",
   "execution_count": 7,
   "id": "ad8377ac",
   "metadata": {},
   "outputs": [],
   "source": [
    "def test_model(model, dataloader):\n",
    "    true = list()\n",
    "    pred = list()\n",
    "    while True:\n",
    "        batch = next(dataloader)\n",
    "        if not batch:\n",
    "            break\n",
    "        x, y = batch\n",
    "        y_pred = np.argmax(clf.forward(x), axis=-1)\n",
    "        true.extend(list(np.squeeze(y)))\n",
    "        pred.extend(list(np.squeeze(y_pred)))\n",
    "    print(classification_report(true, pred))"
   ]
  },
  {
   "cell_type": "markdown",
   "id": "2f5e4368",
   "metadata": {},
   "source": [
    "### Model Class"
   ]
  },
  {
   "cell_type": "code",
   "execution_count": 8,
   "id": "67028cbc",
   "metadata": {},
   "outputs": [],
   "source": [
    "class Model:\n",
    "    def __init__(self, layers=[]):\n",
    "        self.layers = layers\n",
    "        \n",
    "    def add_layer(self, layer):\n",
    "        self.layers.append(layer)\n",
    "        \n",
    "    def forward(self, x):\n",
    "        for l in self.layers:\n",
    "            x = l.forward(x)\n",
    "        return x\n",
    "    \n",
    "    def backward(self, dx):\n",
    "        for l in self.layers[::-1]:\n",
    "            dx = l.backward(dx)\n",
    "            \n",
    "    def update(self, optim):\n",
    "        for l in self.layers:\n",
    "            if l.type == \"learnable\":\n",
    "                for p in l.params:\n",
    "                    l.params[p] = optim.update(l.params[p], l.grad[p])"
   ]
  },
  {
   "cell_type": "markdown",
   "id": "8f3d46f6",
   "metadata": {},
   "source": [
    "## Implementation 1\n",
    "- 3 dense layers followed by sigmoid\n",
    "- MSE Loss\n",
    "- SGD Optimizer with LR 0.1\n",
    "- 5 epochs"
   ]
  },
  {
   "cell_type": "code",
   "execution_count": 9,
   "id": "3619e045",
   "metadata": {},
   "outputs": [],
   "source": [
    "layers = [\n",
    "    Linear(784, 100),\n",
    "    Sigmoid(),\n",
    "    Linear(100, 20),\n",
    "    Sigmoid(),\n",
    "    Linear(20, 10),\n",
    "    Sigmoid()\n",
    "]\n",
    "clf = Model(layers)"
   ]
  },
  {
   "cell_type": "code",
   "execution_count": 10,
   "id": "ba59d615",
   "metadata": {},
   "outputs": [],
   "source": [
    "loss_fn = MSELoss()"
   ]
  },
  {
   "cell_type": "code",
   "execution_count": 11,
   "id": "016cf13e",
   "metadata": {},
   "outputs": [],
   "source": [
    "sgd_optim = SGD(lr=0.1)"
   ]
  },
  {
   "cell_type": "code",
   "execution_count": 12,
   "id": "08b24949",
   "metadata": {},
   "outputs": [
    {
     "name": "stderr",
     "output_type": "stream",
     "text": [
      "/home/himansu/Programming/general_ml/ml-from-scratch/ml/layers/activations.py:24: RuntimeWarning: overflow encountered in exp\n",
      "  return 1 / (1 + np.exp(-x))\n"
     ]
    },
    {
     "name": "stdout",
     "output_type": "stream",
     "text": [
      "Epoch 0 Batch 1875 Loss 0.053395755404210565\n",
      "Epoch 1 Batch 1875 Loss 0.051330457668268326\n",
      "Epoch 2 Batch 1875 Loss 0.050307912642755484\n",
      "Epoch 3 Batch 1875 Loss 0.049131947810160324\n",
      "Epoch 4 Batch 1875 Loss 0.049512293328935446\n"
     ]
    }
   ],
   "source": [
    "train_model(clf, loss_fn, train_loader, sgd_optim, 5)"
   ]
  },
  {
   "cell_type": "code",
   "execution_count": 14,
   "id": "281cfda2",
   "metadata": {},
   "outputs": [
    {
     "name": "stderr",
     "output_type": "stream",
     "text": [
      "/home/himansu/Programming/general_ml/ml-from-scratch/ml/layers/activations.py:24: RuntimeWarning: overflow encountered in exp\n",
      "  return 1 / (1 + np.exp(-x))\n"
     ]
    },
    {
     "name": "stdout",
     "output_type": "stream",
     "text": [
      "              precision    recall  f1-score   support\n",
      "\n",
      "           0       0.20      0.09      0.12      5923\n",
      "           1       0.43      0.71      0.53      6742\n",
      "           2       0.04      0.00      0.01      5958\n",
      "           3       0.20      0.68      0.31      6131\n",
      "           4       0.22      0.08      0.12      5842\n",
      "           5       0.21      0.12      0.15      5421\n",
      "           6       0.14      0.07      0.10      5918\n",
      "           7       0.29      0.42      0.34      6265\n",
      "           8       0.12      0.09      0.10      5851\n",
      "           9       0.12      0.06      0.08      5949\n",
      "\n",
      "    accuracy                           0.24     60000\n",
      "   macro avg       0.20      0.23      0.19     60000\n",
      "weighted avg       0.20      0.24      0.19     60000\n",
      "\n"
     ]
    }
   ],
   "source": [
    "test_model(clf, train_loader)"
   ]
  },
  {
   "cell_type": "code",
   "execution_count": 13,
   "id": "babeb287",
   "metadata": {},
   "outputs": [
    {
     "name": "stdout",
     "output_type": "stream",
     "text": [
      "              precision    recall  f1-score   support\n",
      "\n",
      "           0       0.21      0.09      0.13      1001\n",
      "           1       0.42      0.74      0.54      1127\n",
      "           2       0.05      0.00      0.01       991\n",
      "           3       0.20      0.66      0.31      1032\n",
      "           4       0.23      0.09      0.13       980\n",
      "           5       0.20      0.11      0.14       863\n",
      "           6       0.13      0.07      0.09      1014\n",
      "           7       0.31      0.45      0.37      1070\n",
      "           8       0.13      0.10      0.12       944\n",
      "           9       0.11      0.05      0.07       978\n",
      "\n",
      "    accuracy                           0.25     10000\n",
      "   macro avg       0.20      0.24      0.19     10000\n",
      "weighted avg       0.20      0.25      0.20     10000\n",
      "\n"
     ]
    }
   ],
   "source": [
    "test_model(clf, test_loader)"
   ]
  },
  {
   "cell_type": "markdown",
   "id": "59ccc800",
   "metadata": {},
   "source": [
    "## Implementation 2\n",
    "- 3 dense layers followed by sigmoid\n",
    "- MSE Loss\n",
    "- SGD Optimizer with LR 0.1\n",
    "- 10 epochs"
   ]
  },
  {
   "cell_type": "code",
   "execution_count": 16,
   "id": "515628e3",
   "metadata": {},
   "outputs": [],
   "source": [
    "clf = Model(layers)"
   ]
  },
  {
   "cell_type": "code",
   "execution_count": 17,
   "id": "88b80435",
   "metadata": {},
   "outputs": [
    {
     "name": "stdout",
     "output_type": "stream",
     "text": [
      "Epoch 0 Batch 1050 Loss 0.049476492722046916\n",
      "Epoch 1 Batch 1875 Loss 0.049847328095996596\n",
      "Epoch 2 Batch 1875 Loss 0.048697885268765675\n",
      "Epoch 3 Batch 1875 Loss 0.048556133842159854\n",
      "Epoch 4 Batch 1875 Loss 0.048102262978292724\n",
      "Epoch 5 Batch 1875 Loss 0.047497936415689295\n",
      "Epoch 6 Batch 1875 Loss 0.047168681899091115\n",
      "Epoch 7 Batch 1875 Loss 0.046858681781957276\n",
      "Epoch 8 Batch 1875 Loss 0.046803227011923996\n",
      "Epoch 9 Batch 1875 Loss 0.047035857658350264\n"
     ]
    }
   ],
   "source": [
    "train_model(clf, loss_fn, train_loader, sgd_optim, 10)"
   ]
  },
  {
   "cell_type": "code",
   "execution_count": 18,
   "id": "3c41b27d",
   "metadata": {},
   "outputs": [
    {
     "name": "stdout",
     "output_type": "stream",
     "text": [
      "              precision    recall  f1-score   support\n",
      "\n",
      "           0       0.42      0.35      0.38      5923\n",
      "           1       0.65      0.87      0.74      6742\n",
      "           2       0.05      0.00      0.00      5958\n",
      "           3       0.28      0.71      0.41      6131\n",
      "           4       0.32      0.22      0.26      5842\n",
      "           5       0.30      0.08      0.13      5421\n",
      "           6       0.26      0.44      0.33      5918\n",
      "           7       0.40      0.68      0.50      6265\n",
      "           8       0.29      0.17      0.21      5851\n",
      "           9       0.20      0.03      0.04      5949\n",
      "\n",
      "    accuracy                           0.37     60000\n",
      "   macro avg       0.32      0.35      0.30     60000\n",
      "weighted avg       0.32      0.37      0.31     60000\n",
      "\n"
     ]
    }
   ],
   "source": [
    "test_model(clf, train_loader)"
   ]
  },
  {
   "cell_type": "code",
   "execution_count": 19,
   "id": "472110f4",
   "metadata": {},
   "outputs": [
    {
     "name": "stderr",
     "output_type": "stream",
     "text": [
      "/home/himansu/Programming/general_ml/ml-from-scratch/ml/layers/activations.py:24: RuntimeWarning: overflow encountered in exp\n",
      "  return 1 / (1 + np.exp(-x))\n"
     ]
    },
    {
     "name": "stdout",
     "output_type": "stream",
     "text": [
      "              precision    recall  f1-score   support\n",
      "\n",
      "           0       0.41      0.35      0.38      1001\n",
      "           1       0.64      0.88      0.74      1127\n",
      "           2       0.00      0.00      0.00       991\n",
      "           3       0.29      0.68      0.40      1032\n",
      "           4       0.34      0.24      0.28       980\n",
      "           5       0.27      0.08      0.12       863\n",
      "           6       0.27      0.45      0.34      1014\n",
      "           7       0.41      0.68      0.52      1070\n",
      "           8       0.30      0.20      0.24       944\n",
      "           9       0.24      0.02      0.04       978\n",
      "\n",
      "    accuracy                           0.38     10000\n",
      "   macro avg       0.32      0.36      0.31     10000\n",
      "weighted avg       0.32      0.38      0.32     10000\n",
      "\n"
     ]
    }
   ],
   "source": [
    "test_model(clf, test_loader)"
   ]
  },
  {
   "cell_type": "code",
   "execution_count": null,
   "id": "10e73902",
   "metadata": {},
   "outputs": [],
   "source": []
  },
  {
   "cell_type": "code",
   "execution_count": null,
   "id": "54438530",
   "metadata": {},
   "outputs": [],
   "source": []
  },
  {
   "cell_type": "code",
   "execution_count": null,
   "id": "f05252e3",
   "metadata": {},
   "outputs": [],
   "source": []
  },
  {
   "cell_type": "code",
   "execution_count": null,
   "id": "074ce73d",
   "metadata": {},
   "outputs": [],
   "source": []
  },
  {
   "cell_type": "code",
   "execution_count": null,
   "id": "26a4cd3a",
   "metadata": {},
   "outputs": [],
   "source": []
  },
  {
   "cell_type": "code",
   "execution_count": null,
   "id": "30e144ab",
   "metadata": {},
   "outputs": [],
   "source": []
  }
 ],
 "metadata": {
  "kernelspec": {
   "display_name": "general-ml-env",
   "language": "python",
   "name": "general-ml-env"
  },
  "language_info": {
   "codemirror_mode": {
    "name": "ipython",
    "version": 3
   },
   "file_extension": ".py",
   "mimetype": "text/x-python",
   "name": "python",
   "nbconvert_exporter": "python",
   "pygments_lexer": "ipython3",
   "version": "3.10.4"
  }
 },
 "nbformat": 4,
 "nbformat_minor": 5
}
